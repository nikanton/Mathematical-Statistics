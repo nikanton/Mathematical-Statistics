{
 "cells": [
  {
   "cell_type": "code",
   "execution_count": 1,
   "metadata": {
    "collapsed": true
   },
   "outputs": [],
   "source": [
    "import numpy as np\n",
    "import matplotlib.pylab as plt\n",
    "import math\n",
    "import scipy.stats as sps\n",
    "import scipy.optimize as opt\n",
    "import scipy.integrate as spint\n",
    "import pandas as pd\n",
    "import seaborn as sns\n",
    "import random\n",
    "\n",
    "%matplotlib inline"
   ]
  },
  {
   "cell_type": "markdown",
   "metadata": {},
   "source": [
    "# Проверка гипотез"
   ]
  },
  {
   "cell_type": "markdown",
   "metadata": {},
   "source": [
    "# Задача 3"
   ]
  },
  {
   "cell_type": "markdown",
   "metadata": {},
   "source": [
    "Распишем статистику байесовского критерия:\n",
    "$$K=\\frac{I_1}{I_2} = \\frac{\\int f_0(X,\\sigma)q(\\sigma)d\\sigma}{\\int f_1(X,\\theta)\\tilde q(\\theta)d\\theta} =\n",
    "\\frac{\\int_{0}^{\\infty} \\Big(\\frac{1}{\\sqrt{2 \\pi \\sigma^2}}\\Big)^n e^{-\\frac{n \\overline{X^2}}{2 \\sigma^2}-\\sigma}d\\sigma}{\\int_{0}^{\\infty} \\Big(\\frac{1}{2 \\theta}\\Big)^n e^{-\\frac{n \\overline{|X_i|}}{\\theta}-\\theta}d\\theta}.$$"
   ]
  },
  {
   "cell_type": "code",
   "execution_count": 40,
   "metadata": {},
   "outputs": [
    {
     "name": "stdout",
     "output_type": "stream",
     "text": [
      "1.13614945823\n"
     ]
    }
   ],
   "source": [
    "#подгружаем данные\n",
    "data = np.load('9-3.npy')\n",
    "\n",
    "#зададим основные параметры\n",
    "N=10000 #число выборок\n",
    "L=len(data) #число элементов в выборке\n",
    "alpha = 0.05\n",
    "#зададим статистику К\n",
    "def I1(sample):\n",
    "    f = lambda sigma: np.exp(-np.sum(sample ** 2) / (2 * sigma ** 2) - sigma) /  (2 * np.pi * sigma ** 2) ** (L / 2)\n",
    "    return spint.quad(f, 0, np.inf)[0]\n",
    "    \n",
    "def I2(sample):\n",
    "    f = lambda theta: np.exp(-np.sum(np.abs(sample)) / theta - theta) / (2 * theta) ** L\n",
    "    return spint.quad(f, 0, np.inf)[0]\n",
    "\n",
    "def K(sample):\n",
    "    return I1(sample) / I2(sample)\n",
    "\n",
    "#сгенерируем дисперсии для выборок, по которым будем определять эмпирическую K\n",
    "exp_rv = sps.expon(1)\n",
    "sigmas = exp_rv.rvs(size=N)\n",
    "\n",
    "#получим эмпирическое распределение K\n",
    "K_values = [K(np.random.normal(scale = sigma ** 0.5, size = L)) for sigma in sigmas]\n",
    "\n",
    "K_values = np.sort(K_values)\n",
    "print(K_values[int(N * alpha)]) #получим значение квантили уровня alpha"
   ]
  },
  {
   "cell_type": "markdown",
   "metadata": {},
   "source": [
    "Таким образом наш критерий уровня значимости $0,05$ выглядит, как $S=\\{K<1,14\\}$."
   ]
  },
  {
   "cell_type": "markdown",
   "metadata": {},
   "source": [
    "Получим значение на предлагаемой выборке:"
   ]
  },
  {
   "cell_type": "code",
   "execution_count": 43,
   "metadata": {},
   "outputs": [
    {
     "data": {
      "text/plain": [
       "14311.948632273921"
      ]
     },
     "execution_count": 43,
     "metadata": {},
     "output_type": "execute_result"
    }
   ],
   "source": [
    "K(data)"
   ]
  },
  {
   "cell_type": "markdown",
   "metadata": {},
   "source": [
    "Как видно, значение существенно больше квантили. Значит, гипотиза о нормальном распределении верна."
   ]
  }
 ],
 "metadata": {
  "kernelspec": {
   "display_name": "Python 3",
   "language": "python",
   "name": "python3"
  },
  "language_info": {
   "codemirror_mode": {
    "name": "ipython",
    "version": 3
   },
   "file_extension": ".py",
   "mimetype": "text/x-python",
   "name": "python",
   "nbconvert_exporter": "python",
   "pygments_lexer": "ipython3",
   "version": "3.6.3"
  }
 },
 "nbformat": 4,
 "nbformat_minor": 2
}
