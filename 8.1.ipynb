{
 "cells": [
  {
   "cell_type": "code",
   "execution_count": 131,
   "metadata": {
    "collapsed": true
   },
   "outputs": [],
   "source": [
    "import numpy as np\n",
    "import matplotlib.pylab as plt\n",
    "import math\n",
    "import scipy.stats as sps\n",
    "import scipy.optimize as opt\n",
    "import pandas as pd\n",
    "import seaborn as sns\n",
    "import random\n",
    "\n",
    "random.seed()\n",
    "%matplotlib inline"
   ]
  },
  {
   "cell_type": "markdown",
   "metadata": {},
   "source": [
    "# Линейная регрессия"
   ]
  },
  {
   "cell_type": "markdown",
   "metadata": {},
   "source": [
    "# Задача 1"
   ]
  },
  {
   "cell_type": "code",
   "execution_count": 212,
   "metadata": {},
   "outputs": [],
   "source": [
    "#подгружаем данные\n",
    "data = pd.read_csv(\"forestfires.csv\")\n",
    "\n",
    "#таблица с индикатором летнего сезона и константой 1\n",
    "indicator = pd.DataFrame({'month': ['jan', 'feb', 'mar', 'apr', 'may', 'jun', 'jul', 'aug', 'sep', 'oct', 'nov', 'dec'], \n",
    "                     'sesason': [0, 0, 0, 0, 0, 1, 1, 1, 0, 0, 0, 0],\n",
    "                     'constant': [1, 1, 1, 1, 1, 1, 1, 1, 1, 1, 1, 1]})\n",
    "\n",
    "#соединим данные и таблицу с индикатором, тем самым избавимся от нечисленных значений и добавим константу 1 в таблицу\n",
    "data = pd.merge(data, indicator, on='month')\n",
    "\n",
    "#удалим ненужные колонки month и day\n",
    "data.drop(['month', 'day'], axis=1, inplace=True)\n",
    "\n",
    "#определим основные переменные\n",
    "k = 0.7 #часть для вывода\n",
    "N = len(data) #общее число строк\n",
    "K = int(N * k) #число строк для обучающей выборки"
   ]
  },
  {
   "cell_type": "markdown",
   "metadata": {},
   "source": [
    "При помощи метода наименьших квадратов найдём коэффициенты регрессионной модели. Будем пользоваться формулой МНК: $$\\theta=(Z^TZ)^{-1}Z^TX.$$"
   ]
  },
  {
   "cell_type": "code",
   "execution_count": 198,
   "metadata": {},
   "outputs": [],
   "source": [
    "def get_error(data, func=lambda x:x, inv_func=lambda x:x):\n",
    "    #получаем выборки\n",
    "    training = data[0:K]\n",
    "    checking = data[K:N]\n",
    "    training_points = func(np.array(training.pop('area')))\n",
    "    checking_points = np.array(checking.pop('area'))\n",
    "    training = np.array(training)\n",
    "    checking = np.array(checking)\n",
    "    \n",
    "    #получаем коэффициенты МНК\n",
    "    coefficients = np.linalg.inv(training.T @ training) @ training.T @ training_points\n",
    "\n",
    "    #получаем предсказания площади пожара\n",
    "    supposion = coefficients @ checking.T\n",
    "\n",
    "    #выводим стреднеквадратичную ошибку\n",
    "    return np.sqrt(sum((inv_func(supposion) - checking_points) ** 2) / (N - K))"
   ]
  },
  {
   "cell_type": "markdown",
   "metadata": {},
   "source": [
    "Среднеквадратичное отклонение для непреобразованных данных"
   ]
  },
  {
   "cell_type": "code",
   "execution_count": 199,
   "metadata": {},
   "outputs": [
    {
     "data": {
      "text/plain": [
       "66.502094951158583"
      ]
     },
     "execution_count": 199,
     "metadata": {},
     "output_type": "execute_result"
    }
   ],
   "source": [
    "get_error(data.sample(frac=1))"
   ]
  },
  {
   "cell_type": "markdown",
   "metadata": {},
   "source": [
    "Зависимость среднеквадратичного отклонения от константы $c$ в преобразованных данных по функции $f(x)=ln(x+c)$."
   ]
  },
  {
   "cell_type": "code",
   "execution_count": 215,
   "metadata": {},
   "outputs": [
    {
     "data": {
      "text/plain": [
       "[<matplotlib.lines.Line2D at 0x7f89eed04f28>]"
      ]
     },
     "execution_count": 215,
     "metadata": {},
     "output_type": "execute_result"
    },
    {
     "data": {
      "image/png": "[encoded data removed]",
      "text/plain": [
       "<matplotlib.figure.Figure at 0x7f89eee00518>"
      ]
     },
     "metadata": {},
     "output_type": "display_data"
    }
   ],
   "source": [
    "data_sample = data.sample(frac=1)\n",
    "\n",
    "#функция ошибки при заданном c\n",
    "def error_depend_on_c(c):\n",
    "    return get_error(data_sample, lambda x: np.log(x+c), lambda x: np.exp(x) - c)\n",
    "error_depend_on_c = np.vectorize(error_depend_on_c)\n",
    "\n",
    "#построим график искомой зависимости\n",
    "coordinates = np.linspace(0.1, 1000, 1000)\n",
    "values = error_depend_on_c(coordinates)\n",
    "plt.plot(coordinates, values)"
   ]
  },
  {
   "cell_type": "code",
   "execution_count": 216,
   "metadata": {},
   "outputs": [
    {
     "name": "stdout",
     "output_type": "stream",
     "text": [
      "Минимальное значение среднеквадратичного отклонения на этой выборке достигается при c =  84.2726337549  и равняется  31.81781467519083 . Для сравнения, на этом же разбиении методом без преобразования отклонение равно  33.4280679106\n"
     ]
    }
   ],
   "source": [
    "#найдём минимальное значение ошибки\n",
    "minimum = opt.minimize(error_depend_on_c, 0.1)\n",
    "fun = minimum.fun\n",
    "x = minimum.x\n",
    "\n",
    "print(\"Минимальное значение среднеквадратичного отклонения на этой выборке достигается при c = \", x[0],\n",
    "      \" и равняется \", fun,\n",
    "      \". Для сравнения, на этом же разбиении методом без преобразования отклонение равно \", get_error(data_sample))"
   ]
  },
  {
   "cell_type": "code",
   "execution_count": 217,
   "metadata": {
    "scrolled": true
   },
   "outputs": [
    {
     "name": "stdout",
     "output_type": "stream",
     "text": [
      "65.1532015\n",
      "87.8553981696\n",
      "26.8240587551\n",
      "107.054688969\n",
      "90.4556118917\n"
     ]
    }
   ],
   "source": [
    "#зафиксируем c. Положим:\n",
    "c_fixed = minimum.x\n",
    "\n",
    "#выведем значения ошибки на разных разбиениях\n",
    "for i in range(5):\n",
    "    data_sample = data.sample(frac=1)\n",
    "    print(get_error(data_sample, lambda x: np.log(x+c_fixed), lambda x: np.exp(x) - c_fixed))"
   ]
  },
  {
   "cell_type": "markdown",
   "metadata": {},
   "source": [
    "### Вывод\n",
    "Оба метода, с применением преобразования и без него, показывают на одних и тех же разбиениях почти одинаковые откланения. Линейная регрессия показывает себя плохо в этой задаче, так как средняя площадь пожара по всем данным равна 13, а отклонение часто существенно превышает 30. Также качество оценки сильно зависит от разбиения. Из этого можно сделать вывод, что площадь пожара не зависит линейно от предложенных параметров."
   ]
  }
 ],
 "metadata": {
  "kernelspec": {
   "display_name": "Python 3",
   "language": "python",
   "name": "python3"
  },
  "language_info": {
   "codemirror_mode": {
    "name": "ipython",
    "version": 3
   },
   "file_extension": ".py",
   "mimetype": "text/x-python",
   "name": "python",
   "nbconvert_exporter": "python",
   "pygments_lexer": "ipython3",
   "version": "3.6.3"
  }
 },
 "nbformat": 4,
 "nbformat_minor": 2
}
