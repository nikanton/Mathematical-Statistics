{
 "cells": [
  {
   "cell_type": "code",
   "execution_count": 1,
   "metadata": {
    "collapsed": true
   },
   "outputs": [],
   "source": [
    "import numpy as np\n",
    "import matplotlib.pylab as plt\n",
    "import math\n",
    "import scipy.stats as sps\n",
    "import scipy.optimize as opt\n",
    "import pandas as pd\n",
    "import seaborn as sns\n",
    "import random\n",
    "\n",
    "%matplotlib inline"
   ]
  },
  {
   "cell_type": "markdown",
   "metadata": {},
   "source": [
    "# Линейная регрессия"
   ]
  },
  {
   "cell_type": "markdown",
   "metadata": {},
   "source": [
    "# Задача 2"
   ]
  },
  {
   "cell_type": "code",
   "execution_count": 6,
   "metadata": {
    "collapsed": true
   },
   "outputs": [],
   "source": [
    "#подгружаем данные\n",
    "data = pd.read_csv(\"Regression.csv\", names=['distance'])"
   ]
  },
  {
   "cell_type": "markdown",
   "metadata": {},
   "source": [
    "Из номера $\\S 8$ $№2$ письменного домашнего задания известны оценки начального расстояния и скорости:\n",
    "$$\\beta_1 = X_0,$$\n",
    "$$\\beta_2 = \\frac{X_n-X_0}{n}.$$\n",
    "Они подсчитаны из формулы для МНК: $$\\theta=(Z^TZ)^{-1}Z^TY,$$\n",
    "где $\\theta = \\pmatrix{\\beta_1 \\\\ \\beta_2}$, $Y_i = X_i - X_{i-1}$, $Y_0=X_0$, а $Z=\\pmatrix{1 0\\\\ 0 1 \\\\ \\vdots \\vdots \\\\ 0 1}$.\n",
    "\n",
    "Для дисперсии: $$\\sigma^2=\\frac{1}{n-k}||Y-Z\\theta||^2,$$ где $k=2$."
   ]
  },
  {
   "cell_type": "code",
   "execution_count": 33,
   "metadata": {},
   "outputs": [
    {
     "name": "stdout",
     "output_type": "stream",
     "text": [
      "beta_1 = 14.7978  beta_2 = 14.0360369 sigma^2 = 2.3184696058\n"
     ]
    }
   ],
   "source": [
    "#определим основные переменные\n",
    "N = len(data)\n",
    "K = 2\n",
    "X = data['distance']\n",
    "\n",
    "#посчитаем требуемвые величины\n",
    "beta1 = X[0]\n",
    "beta2 = (X[N-1] - X[0]) / N\n",
    "sigma2 = ((X[0] - beta1) ** 2 + sum([(X[i] - X[i-1] - beta2) ** 2 for i in range(1, N)])) / (N - K)\n",
    "\n",
    "print(\"beta_1 =\", beta1, \" beta_2 =\", beta2, \"sigma^2 =\", sigma2)"
   ]
  },
  {
   "cell_type": "markdown",
   "metadata": {},
   "source": [
    "Найдём дисперсию времени, исходя из того, что:\n",
    "$$\\epsilon_i=\\epsilon_i^t\\beta_2 \\sim \\mathcal{N(0, \\sigma^2)} \\Rightarrow \\epsilon_i^t \\sim \\mathcal{N\\Big(0, \\frac{\\sigma^2}{\\beta_2^2 }\\Big)}.$$"
   ]
  },
  {
   "cell_type": "code",
   "execution_count": 31,
   "metadata": {},
   "outputs": [
    {
     "name": "stdout",
     "output_type": "stream",
     "text": [
      "Дисперсия отсчёта времени равна 0.0117682640496\n"
     ]
    }
   ],
   "source": [
    "print(\"Дисперсия отсчёта времени равна\", sigma2 / (beta2**2))"
   ]
  },
  {
   "cell_type": "markdown",
   "metadata": {},
   "source": [
    "### Вывод\n",
    "Качество оценки достаточно хорошее, так как дисперсия ошибки мала по сравнению со значениями скорости и начальной координаты."
   ]
  }
 ],
 "metadata": {
  "kernelspec": {
   "display_name": "Python 3",
   "language": "python",
   "name": "python3"
  },
  "language_info": {
   "codemirror_mode": {
    "name": "ipython",
    "version": 3
   },
   "file_extension": ".py",
   "mimetype": "text/x-python",
   "name": "python",
   "nbconvert_exporter": "python",
   "pygments_lexer": "ipython3",
   "version": "3.6.3"
  }
 },
 "nbformat": 4,
 "nbformat_minor": 2
}
