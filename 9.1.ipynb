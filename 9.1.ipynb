{
 "cells": [
  {
   "cell_type": "code",
   "execution_count": 1,
   "metadata": {
    "collapsed": true
   },
   "outputs": [],
   "source": [
    "import numpy as np\n",
    "import matplotlib.pylab as plt\n",
    "import math\n",
    "import scipy.stats as sps\n",
    "import scipy.optimize as opt\n",
    "import pandas as pd\n",
    "import seaborn as sns\n",
    "import random\n",
    "\n",
    "%matplotlib inline"
   ]
  },
  {
   "cell_type": "markdown",
   "metadata": {},
   "source": [
    "# Проверка гипотез"
   ]
  },
  {
   "cell_type": "markdown",
   "metadata": {},
   "source": [
    "# Задача 1"
   ]
  },
  {
   "cell_type": "markdown",
   "metadata": {},
   "source": [
    "Будем решать задачу при помощи критерия согласия Колмогорова. Истинное значение будем определять по минимуму статистики: \n",
    "$$D_n=\\sup_x|F_n(x)^*-F_0(x)|.$$ Здесь $$F_n^*(x)=\\frac{1}{n}\\sum_{i=1}^n I\\{X_i\\leq x\\}$$."
   ]
  },
  {
   "cell_type": "code",
   "execution_count": 23,
   "metadata": {},
   "outputs": [
    {
     "name": "stdout",
     "output_type": "stream",
     "text": [
      "theta = 1.1 D = 0.0907704331613185\n",
      "theta = 1.0 D = 0.06212055608764222\n",
      "theta = 0.9 D = 0.04514193019745194\n"
     ]
    }
   ],
   "source": [
    "#подгружаем данные\n",
    "data = np.load('9-1.npy')\n",
    "\n",
    "#определим основные переменные\n",
    "N = len(data) #100\n",
    "\n",
    "#определим функции эмпирического и гипотетического распределений\n",
    "def indicator_geq_0(x):\n",
    "    if x >= 0:\n",
    "        return 1\n",
    "    else:\n",
    "        return 0\n",
    "\n",
    "def f_empirical(x):\n",
    "    return sum(data <= x) / N\n",
    "\n",
    "def f_hypothesis(theta):\n",
    "    return lambda x: (1 - np.exp(-theta*x)) * indicator_geq_0(x)\n",
    "\n",
    "#разнича в значениях функций распределения\n",
    "def error(x, theta):\n",
    "    return -abs(f_empirical(x) - f_hypothesis(theta)(x))\n",
    "\n",
    "#считаем искомую величину\n",
    "def D(theta):\n",
    "    error_f = lambda x: error(x, theta)\n",
    "    return -opt.minimize(error_f, 0).fun\n",
    "\n",
    "print(\"theta = 1.1 D =\", D(1.1))\n",
    "print(\"theta = 1.0 D =\", D(1.0))\n",
    "print(\"theta = 0.9 D =\", D(0.9))"
   ]
  },
  {
   "cell_type": "markdown",
   "metadata": {},
   "source": [
    "Таким отбразом, истинное значение - $\\theta = 0.9$."
   ]
  }
 ],
 "metadata": {
  "kernelspec": {
   "display_name": "Python 3",
   "language": "python",
   "name": "python3"
  },
  "language_info": {
   "codemirror_mode": {
    "name": "ipython",
    "version": 3
   },
   "file_extension": ".py",
   "mimetype": "text/x-python",
   "name": "python",
   "nbconvert_exporter": "python",
   "pygments_lexer": "ipython3",
   "version": "3.6.3"
  }
 },
 "nbformat": 4,
 "nbformat_minor": 2
}
